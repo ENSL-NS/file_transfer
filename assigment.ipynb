{
 "cells": [
  {
   "cell_type": "markdown",
   "metadata": {},
   "source": [
    "# Implementing a file transfer application\n",
    "\n",
    "In this exercise, you will be implementing your own file transfer application and put it to test. Similarly to how you implemented a messaging protocol, in this exercise you will create a simple program to transfer files from a server to a client. Then, you will analyze the performance of your application in different network conditions.\n",
    "\n",
    "## Details\n",
    "\n",
    "### Emulating a network\n",
    "\n",
    "In this class (and, more broadly, in this course), you will use Mininet to emulate a network connecting clients and emulating different conditions. Mininet is a network emulator with which you can create a custom network of virtual hosts, switches, controllers, and links, all on a single computer. The virtual devices in the emulated network can run real programs; anything that can run on Linux can also run on a Mininet device. This makes Mininet a valuable tool for quick and easy simulation of protocols and network measurements. This Introduction to Mininet is a helpful guide to get started with the Mininet Python API. The Mininet website has additional resources if you’re interested.\n",
    "\n",
    "While we will see Mininet more in detail in future classes, today you won't need to explore its details, but you will only use wrapper functions already provided to you.\n",
    "\n",
    "### The protocol\n",
    "\n",
    "Your protocol should have as objective the transfer of contents from a server to a client, similarly to FTP. The client sends a content request that includes a path to the content to download. The server processes the request, and sends back the content. Depending on your approach, you might need information on the content size being returned.\n",
    "\n"
   ]
  },
  {
   "cell_type": "markdown",
   "metadata": {},
   "source": [
    "## Creating the network\n",
    "\n",
    "Creating the network you will be using for this experiment should be as easy as executing the following cell. Notice that you can change the bandwidth and latency associated to the network."
   ]
  },
  {
   "cell_type": "code",
   "execution_count": null,
   "metadata": {},
   "outputs": [],
   "source": [
    "import network\n",
    "\n",
    "bw = 1000\n",
    "delay = 10\n",
    "\n",
    "net = network.get_network(bw=bw, delay=delay)\n",
    "network.start_network(net)"
   ]
  },
  {
   "cell_type": "markdown",
   "metadata": {},
   "source": [
    "Remember that any time you want to change the network configuration, you will need to stop the network using the following cell (and restart the network using the above cell)"
   ]
  },
  {
   "cell_type": "code",
   "execution_count": null,
   "metadata": {},
   "outputs": [],
   "source": [
    "network.stop_network(net)"
   ]
  },
  {
   "cell_type": "markdown",
   "metadata": {},
   "source": [
    "## Implementing and running the host devices"
   ]
  },
  {
   "cell_type": "code",
   "execution_count": null,
   "metadata": {},
   "outputs": [],
   "source": []
  },
  {
   "cell_type": "code",
   "execution_count": null,
   "metadata": {},
   "outputs": [],
   "source": []
  }
 ],
 "metadata": {
  "kernelspec": {
   "display_name": "Python 3",
   "language": "python",
   "name": "python3"
  },
  "language_info": {
   "name": "python",
   "version": "3.12.5"
  }
 },
 "nbformat": 4,
 "nbformat_minor": 2
}
