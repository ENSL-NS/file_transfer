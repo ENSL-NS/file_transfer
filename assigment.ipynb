{
 "cells": [
  {
   "cell_type": "markdown",
   "metadata": {},
   "source": [
    "# Implementing a file transfer application\n",
    "\n",
    "In this exercise, you will be implementing your own file transfer application and put it to test. Similarly to how you implemented a messaging protocol, in this exercise you will create a simple program to transfer files from a server to a client. Then, you will analyze the performance of your application in different network conditions.\n",
    "\n",
    "## Details\n",
    "\n",
    "### Emulating a network\n",
    "\n",
    "In this class (and, more broadly, in this course), you will use Mininet to emulate a network connecting clients and emulating different conditions. Mininet is a network emulator with which you can create a custom network of virtual hosts, switches, controllers, and links, all on a single computer. The virtual devices in the emulated network can run real programs; anything that can run on Linux can also run on a Mininet device. This makes Mininet a valuable tool for quick and easy simulation of protocols and network measurements. This Introduction to Mininet is a helpful guide to get started with the Mininet Python API. The Mininet website has additional resources if you’re interested.\n",
    "\n",
    "While we will see Mininet more in detail in future classes, today you won't need to explore its details, but you will only use wrapper functions already provided to you.\n",
    "\n",
    "### Creating the protocol\n",
    "\n",
    "### Implementing and running the host devices"
   ]
  },
  {
   "cell_type": "markdown",
   "metadata": {},
   "source": [
    "## The protocol"
   ]
  },
  {
   "cell_type": "markdown",
   "metadata": {},
   "source": []
  },
  {
   "cell_type": "markdown",
   "metadata": {},
   "source": [
    "## The server"
   ]
  },
  {
   "cell_type": "code",
   "execution_count": null,
   "metadata": {
    "vscode": {
     "languageId": "plaintext"
    }
   },
   "outputs": [],
   "source": []
  },
  {
   "cell_type": "markdown",
   "metadata": {},
   "source": [
    "## The client"
   ]
  },
  {
   "cell_type": "code",
   "execution_count": null,
   "metadata": {
    "vscode": {
     "languageId": "plaintext"
    }
   },
   "outputs": [],
   "source": []
  }
 ],
 "metadata": {
  "language_info": {
   "name": "python"
  }
 },
 "nbformat": 4,
 "nbformat_minor": 2
}
