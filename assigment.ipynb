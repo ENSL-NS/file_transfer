{
 "cells": [
  {
   "cell_type": "markdown",
   "metadata": {},
   "source": [
    "# Implementing a file transfer application\n",
    "\n",
    "In this exercise, you will be implementing your own file transfer application and put it to test. Similarly to how you implemented a messaging protocol, in this exercise you will create a simple program to transfer files from a server to a client. Then, you will analyze the performance of your application in different network conditions.\n",
    "\n",
    "## Details\n",
    "\n",
    "### Emulating a network\n",
    "\n",
    "In this class (and, more broadly, in this course), you will use Mininet to emulate a network connecting clients and emulating different conditions. Mininet is a network emulator with which you can create a custom network of virtual hosts, switches, controllers, and links, all on a single computer. The virtual devices in the emulated network can run real programs; anything that can run on Linux can also run on a Mininet device. This makes Mininet a valuable tool for quick and easy simulation of protocols and network measurements. This Introduction to Mininet is a helpful guide to get started with the Mininet Python API. The Mininet website has additional resources if you’re interested.\n",
    "\n",
    "While we will see Mininet more in detail in future classes, today you won't need to explore its details, but you will only use wrapper functions already provided to you.\n",
    "\n",
    "### The protocol\n",
    "\n",
    "Your protocol should have as objective the transfer of contents from a server to a client, similarly to FTP. The client sends a content request that includes a path to the content to download. The server processes the request, and sends back the content. Depending on your approach, you might need information on the content size being returned.\n",
    "\n"
   ]
  },
  {
   "cell_type": "markdown",
   "metadata": {},
   "source": [
    "## Creating the network\n",
    "\n",
    "Creating the network you will be using for this experiment should be as easy as executing the following cell. Notice that you can change the bandwidth and latency associated to the network."
   ]
  },
  {
   "cell_type": "code",
   "execution_count": null,
   "metadata": {},
   "outputs": [],
   "source": [
    "import network\n",
    "\n",
    "bw = 1000\n",
    "delay = \"10ms\"\n",
    "\n",
    "net = network.get_network(bw=bw, delay=delay)\n",
    "network.start_network(net)"
   ]
  },
  {
   "cell_type": "markdown",
   "metadata": {},
   "source": [
    "Remember that any time you want to change the network configuration, you will need to stop the network using the following cell (and restart the network using the above cell)"
   ]
  },
  {
   "cell_type": "code",
   "execution_count": null,
   "metadata": {},
   "outputs": [],
   "source": [
    "network.stop_network(net)"
   ]
  },
  {
   "cell_type": "markdown",
   "metadata": {},
   "source": [
    "## Testing the network and running host applications\n",
    "\n",
    "Once the network has been created, you can test: 1) that everything is up and running and 2) that the network performance is set up correctly. Use the following two cells to test both latency and network throughput."
   ]
  },
  {
   "cell_type": "code",
   "execution_count": null,
   "metadata": {},
   "outputs": [],
   "source": [
    "## Latency test\n",
    "\n",
    "output = network.test_ping(net)\n",
    "print(output)"
   ]
  },
  {
   "cell_type": "code",
   "execution_count": null,
   "metadata": {},
   "outputs": [],
   "source": [
    "output = network.test_iperf(net)\n",
    "print(output)\n",
    "network.stop_server_cmd(net, \"iperf\")"
   ]
  },
  {
   "cell_type": "markdown",
   "metadata": {},
   "source": [
    "Before moving to the remaining of the exercise, remember that you have to reboot the network if you want to modify things (or if you have problems running new clients)"
   ]
  },
  {
   "cell_type": "markdown",
   "metadata": {},
   "source": [
    "## Implementing and running the host devices\n",
    "\n",
    "Two python files have been pre-prepared for you to implement your server and client. Feel free to add any python file as necessary. Running the server and client on the emulated network requires providing the command to execute. Ideally, if you do not change the structure of the two files provided, you will not have to change the following cells to execute the hosts.\n",
    "\n",
    "Note that you can assume that your server only accepts one request at a time, and does not accept new connections until the file transfer is complete."
   ]
  },
  {
   "cell_type": "code",
   "execution_count": null,
   "metadata": {},
   "outputs": [],
   "source": [
    "s = network.start_server(net, \"python3 server.py  > /tmp/server.log\")"
   ]
  },
  {
   "cell_type": "code",
   "execution_count": null,
   "metadata": {},
   "outputs": [],
   "source": [
    "c = network.start_client(net, \"python3 client.py -f data/testfile.txt -i \" + network.get_server_ip(net) + \" >> /tmp/client.log\")"
   ]
  },
  {
   "cell_type": "code",
   "execution_count": null,
   "metadata": {},
   "outputs": [],
   "source": [
    "c.wait()\n",
    "network.stop_server(s)"
   ]
  },
  {
   "cell_type": "markdown",
   "metadata": {},
   "source": [
    "## Analyzing the results\n",
    "\n",
    "As a final step, you will run a small performance evaluation of your protocol. To do so, run a \"large\" file transfer for the following different network conditions:\n",
    "\n",
    "* Throughput 100 mbps, delay 10 ms\n",
    "* Throughput 10 mbps, delay 10 ms\n",
    "* Throughput 1 mbps, delay 10 ms\n",
    "* Throughput 100 mbps, delay 100 ms\n",
    "* Throughput 10 mbps, delay 100 ms\n",
    "* Throughput 1 mbps, delay 100 ms\n",
    "\n",
    "To make sure that you get consistent results, run each configuration three times. Once you have collected the data, use the following function to plot the performance. "
   ]
  },
  {
   "cell_type": "code",
   "execution_count": null,
   "metadata": {},
   "outputs": [],
   "source": [
    "import matplotlib.pyplot as plt\n",
    "import numpy as np\n",
    "\n",
    "fig, ax = plt.subplots()\n",
    "\n",
    "configs = [1, 2, 3, 4, 5, 6]\n",
    "tt = [np.average([400,500,450]), np.average([400,500,450]), np.average([400,500,450]), np.average([400,500,450]), np.average([400,500,450]), np.average([400,500,450])]\n",
    "bar_labels = ['100/10', '10/10', '1/10', '100/100', '10/100', '1/100']\n",
    "\n",
    "ax.bar(configs, tt, label=bar_labels)\n",
    "\n",
    "ax.set_ylabel('time (ms)')\n",
    "ax.set_title('Configuration')\n",
    "\n",
    "plt.show()"
   ]
  },
  {
   "cell_type": "markdown",
   "metadata": {},
   "source": []
  }
 ],
 "metadata": {
  "kernelspec": {
   "display_name": "Python 3",
   "language": "python",
   "name": "python3"
  },
  "language_info": {
   "name": "python",
   "version": "3.12.5"
  }
 },
 "nbformat": 4,
 "nbformat_minor": 2
}
